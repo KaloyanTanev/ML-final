{
 "cells": [
  {
   "cell_type": "markdown",
   "metadata": {},
   "source": [
    "# MNIST"
   ]
  },
  {
   "cell_type": "code",
   "execution_count": 68,
   "metadata": {},
   "outputs": [],
   "source": [
    "import numpy as np\n",
    "import pandas as pd\n",
    "\n",
    "# models/classifiers\n",
    "from sklearn.naive_bayes import GaussianNB\n",
    "from sklearn.dummy import DummyClassifier\n",
    "from sklearn.tree import DecisionTreeClassifier\n",
    "from sklearn.svm import SVC\n",
    "from sklearn.neighbors import KNeighborsClassifier\n",
    "from sklearn.linear_model import LogisticRegression\n",
    "\n",
    "# tools for classifier evaluation\n",
    "from sklearn.model_selection import train_test_split, cross_validate\n",
    "from sklearn.metrics import accuracy_score\n",
    "\n",
    "# tools for plotting\n",
    "import matplotlib.pyplot as plt\n",
    "\n",
    "# for nan values checking\n",
    "import math"
   ]
  },
  {
   "cell_type": "markdown",
   "metadata": {},
   "source": [
    "## Global config"
   ]
  },
  {
   "cell_type": "code",
   "execution_count": 44,
   "metadata": {},
   "outputs": [],
   "source": [
    "\n",
    "models = {\n",
    "    \"GaussianNB\" : GaussianNB(),\n",
    "    \"DecisionTreeClassifier\" : DecisionTreeClassifier(),\n",
    "    \"SVC\" : SVC(),\n",
    "    \"KNeighbours\": KNeighborsClassifier(),\n",
    "    \"LogisticRegression\": LogisticRegression()\n",
    "}"
   ]
  },
  {
   "cell_type": "markdown",
   "metadata": {},
   "source": [
    "## Load data"
   ]
  },
  {
   "cell_type": "code",
   "execution_count": 70,
   "metadata": {},
   "outputs": [],
   "source": [
    "mnist_28x28_train = np.load(\"mnist_28x28_train.npy\")\n",
    "mnist_8x8_train = np.load(\"mnist_8x8_train.npy\")\n",
    "train_labels = np.load(\"train_labels.npy\")\n",
    "\n",
    "mnist_28x28_test = np.load(\"mnist_28x28_test.npy\")\n",
    "mnist_8x8_test = np.load(\"mnist_8x8_test.npy\")"
   ]
  },
  {
   "cell_type": "markdown",
   "metadata": {},
   "source": [
    "## Helpers"
   ]
  },
  {
   "cell_type": "code",
   "execution_count": 15,
   "metadata": {},
   "outputs": [
    {
     "output_type": "stream",
     "name": "stdout",
     "text": [
      "1250\n3750\n3750\n"
     ]
    }
   ],
   "source": [
    "print(mnist_8x8_test.shape[0])\n",
    "print(mnist_8x8_train.shape[0])\n",
    "print(train_labels.size)"
   ]
  },
  {
   "cell_type": "markdown",
   "metadata": {},
   "source": [
    "##  Data exploration"
   ]
  },
  {
   "cell_type": "markdown",
   "metadata": {},
   "source": [
    "### Question 1\n",
    "Hint: `plt.imshow`"
   ]
  },
  {
   "cell_type": "code",
   "execution_count": 5,
   "metadata": {},
   "outputs": [],
   "source": [
    "# TODO"
   ]
  },
  {
   "cell_type": "markdown",
   "metadata": {},
   "source": [
    "##  Data Preparations"
   ]
  },
  {
   "cell_type": "markdown",
   "metadata": {},
   "source": [
    "### Question 1"
   ]
  },
  {
   "source": [
    "\n",
    "# Fill missing data\n",
    "\n",
    "\n",
    "for x in mnist_28x28_train:\n",
    "    for r in x:\n",
    "        for f in r:\n",
    "            if math.isnan(f):\n",
    "                f = 0\n",
    "\n",
    "for x in mnist_8x8_train:\n",
    "    for r in x:\n",
    "        for f in r:\n",
    "            if math.isnan(f):\n",
    "                f = 0\n",
    "for x in mnist_8x8_test:\n",
    "    for r in x:\n",
    "        for f in r:\n",
    "            if math.isnan(f):\n",
    "                f = 0\n",
    "\n",
    "for x in mnist_28x28_test:\n",
    "    for r in x:\n",
    "        for f in r:\n",
    "            if math.isnan(f):\n",
    "                f = 0"
   ],
   "cell_type": "code",
   "metadata": {},
   "execution_count": null,
   "outputs": []
  },
  {
   "source": [
    "## Experiments"
   ],
   "cell_type": "code",
   "metadata": {},
   "execution_count": 75,
   "outputs": []
  },
  {
   "cell_type": "markdown",
   "metadata": {},
   "source": [
    "### Question 1"
   ]
  },
  {
   "cell_type": "code",
   "execution_count": 77,
   "metadata": {},
   "outputs": [
    {
     "output_type": "stream",
     "name": "stdout",
     "text": [
      "CV :  0.5704\n",
      "GaussianNB  :  0.5386666666666666\n",
      "CV :  0.7664\n",
      "DecisionTreeClassifier  :  0.7866666666666666\n",
      "CV :  0.9317333333333332\n",
      "SVC  :  0.9226666666666666\n",
      "CV :  0.9194666666666667\n",
      "KNeighbours  :  0.9226666666666666\n",
      "CV :  0.8832000000000001\n",
      "LogisticRegression  :  0.872\n"
     ]
    }
   ],
   "source": [
    "\n",
    "\n",
    "trainX, testX, trainY, testY = train_test_split( mnist_8x8_train, train_labels, test_size = 0.1, random_state=42 )\n",
    "\n",
    "trainX = trainX.reshape(trainX.shape[0], trainX.shape[1]*trainX.shape[2])\n",
    "testX = testX.reshape(testX.shape[0], testX.shape[1]*testX.shape[2])\n",
    "\n",
    "# Transform into categorical data for the Naive Bayes\n",
    "trainXCat = np.copy(trainX)\n",
    "for sample in trainXCat:\n",
    "        for f in sample:\n",
    "            f = f\n",
    "\n",
    "testXCat = np.copy(testX)\n",
    "for sample in testXCat:\n",
    "    for f in sample:\n",
    "        f = f\n",
    "\n",
    "\n",
    "shape = mnist_8x8_train.shape\n",
    "\n",
    "for name, model in models.items():\n",
    "    print(\"CV : \", np.mean(cross_validate(model, mnist_8x8_train.reshape(shape[0], shape[1] * shape[2]), train_labels)['test_score']))\n",
    "\n",
    "    if name == 'GaussianNB':\n",
    "        model.fit(trainXCat, trainY)\n",
    "        predictions = model.predict(testXCat)\n",
    "    \n",
    "    else:\n",
    "        model.fit(trainX, trainY)\n",
    "        predictions = model.predict(testX)\n",
    "    \n",
    "    print(name, ' : ' , accuracy_score(testY, predictions, normalize = True))\n",
    "    \n",
    "\n",
    "\n"
   ]
  },
  {
   "cell_type": "markdown",
   "metadata": {},
   "source": [
    "### Question 2"
   ]
  },
  {
   "cell_type": "code",
   "execution_count": 8,
   "metadata": {},
   "outputs": [],
   "source": [
    "# TODO"
   ]
  },
  {
   "cell_type": "markdown",
   "metadata": {},
   "source": [
    "### Question 3"
   ]
  },
  {
   "cell_type": "code",
   "execution_count": 9,
   "metadata": {},
   "outputs": [],
   "source": [
    "# TODO"
   ]
  },
  {
   "cell_type": "markdown",
   "metadata": {},
   "source": [
    "### Question 4 "
   ]
  },
  {
   "cell_type": "code",
   "execution_count": 10,
   "metadata": {},
   "outputs": [],
   "source": [
    "#TODO"
   ]
  },
  {
   "cell_type": "markdown",
   "metadata": {},
   "source": [
    "### Question 5"
   ]
  },
  {
   "cell_type": "code",
   "execution_count": 11,
   "metadata": {},
   "outputs": [],
   "source": [
    "#TODO"
   ]
  },
  {
   "cell_type": "markdown",
   "metadata": {},
   "source": [
    "### Question 6"
   ]
  },
  {
   "cell_type": "code",
   "execution_count": 12,
   "metadata": {},
   "outputs": [],
   "source": [
    "#TODO\n",
    "prediction = np.array([-1] * len(mnist_8x8_test)) #TODO replace this with you own prediction\n",
    "pd.DataFrame(prediction).to_csv(\"GROUP_classes_problem_mnist.txt\", index=False, header=False)"
   ]
  }
 ],
 "metadata": {
  "kernelspec": {
   "name": "Python 3.8.5 64-bit",
   "display_name": "Python 3.8.5 64-bit",
   "metadata": {
    "interpreter": {
     "hash": "aee8b7b246df8f9039afb4144a1f6fd8d2ca17a180786b69acc140d282b71a49"
    }
   }
  },
  "language_info": {
   "codemirror_mode": {
    "name": "ipython",
    "version": 3
   },
   "file_extension": ".py",
   "mimetype": "text/x-python",
   "name": "python",
   "nbconvert_exporter": "python",
   "pygments_lexer": "ipython3",
   "version": "3.8.5-final"
  }
 },
 "nbformat": 4,
 "nbformat_minor": 4
}