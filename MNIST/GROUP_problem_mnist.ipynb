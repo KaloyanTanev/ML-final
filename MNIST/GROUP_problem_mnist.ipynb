{
 "cells": [
  {
   "cell_type": "markdown",
   "metadata": {},
   "source": [
    "# MNIST"
   ]
  },
  {
   "cell_type": "code",
   "execution_count": 10,
   "metadata": {},
   "outputs": [],
   "source": [
    "import numpy as np\n",
    "import pandas as pd\n",
    "\n",
    "from IPython.display import display\n",
    "\n",
    "# models/classifiers\n",
    "from sklearn.naive_bayes import GaussianNB\n",
    "from sklearn.dummy import DummyClassifier\n",
    "from sklearn.tree import DecisionTreeClassifier\n",
    "from sklearn.svm import SVC\n",
    "from sklearn.neighbors import KNeighborsClassifier\n",
    "from sklearn.linear_model import LogisticRegression\n",
    "\n",
    "# tools for pre-processing\n",
    "from sklearn.preprocessing import MinMaxScaler\n",
    "from sklearn.decomposition import PCA\n",
    "\n",
    "# tools for classifier evaluation\n",
    "from sklearn.model_selection import train_test_split, cross_validate, StratifiedKFold\n",
    "from sklearn.metrics import accuracy_score\n",
    "\n",
    "# tools for hyper-parameter tuning\n",
    "from sklearn.model_selection import GridSearchCV\n",
    "\n",
    "# tools for plotting\n",
    "import matplotlib.pyplot as plt\n",
    "\n",
    "# for nan values checking\n",
    "import math"
   ]
  },
  {
   "cell_type": "markdown",
   "metadata": {},
   "source": [
    "## Global config"
   ]
  },
  {
   "cell_type": "code",
   "execution_count": 11,
   "metadata": {},
   "outputs": [],
   "source": [
    "\n",
    "models = {\n",
    "    \"GaussianNB\" : GaussianNB(),\n",
    "    \"DecisionTreeClassifier\" : DecisionTreeClassifier(max_depth=None, min_samples_leaf=2, random_state=42),\n",
    "    \"SVC\" : SVC(C=10, kernel=\"poly\", random_state=42),\n",
    "    \"KNeighbours\": KNeighborsClassifier(n_neighbors=3, weights=\"distance\"),\n",
    "    \"LogisticRegression\": LogisticRegression(penalty=\"none\", random_state=42)\n",
    "}\n",
    "\n",
    "tuned_models = {\n",
    "            \"GaussianNB\": GaussianNB(),\n",
    "            \"DecisionTreeClassifier\" : DecisionTreeClassifier(),\n",
    "            \"SVC\" : SVC(),\n",
    "            \"KNeighbours\": KNeighborsClassifier(),\n",
    "            \"LogisticRegression\": LogisticRegression()\n",
    "}\n",
    "\n",
    "hyper_params = {\n",
    "    \"DecisionTreeClassifier\" : [\"max_depth\", \"min_samples_leaf\"],\n",
    "    \"SVC\" : [\"C\", \"kernel\"],\n",
    "    \"KNeighbours\": [\"weights\", \"n_neighbors\"],\n",
    "    \"LogisticRegression\": [\"C\", \"penalty\"]\n",
    "}\n",
    "\n",
    "normal_scores_8x8 = np.arange(5)\n",
    "tuned_scores_8x8 = np.arange(5)\n"
   ]
  },
  {
   "cell_type": "markdown",
   "metadata": {},
   "source": [
    "## Load data"
   ]
  },
  {
   "cell_type": "code",
   "execution_count": null,
   "metadata": {},
   "outputs": [
    {
     "name": "stderr",
     "output_type": "stream",
     "text": [
      "ERROR:root:Internal Python error in the inspect module.\n",
      "Below is the traceback from this internal error.\n",
      "\n"
     ]
    },
    {
     "name": "stdout",
     "output_type": "stream",
     "text": [
      "Traceback (most recent call last):\n",
      "  File \"C:\\Users\\Dimitar\\anaconda3\\lib\\site-packages\\IPython\\core\\interactiveshell.py\", line 2895, in _run_cell\n",
      "    return runner(coro)\n",
      "  File \"C:\\Users\\Dimitar\\anaconda3\\lib\\site-packages\\IPython\\core\\async_helpers.py\", line 68, in _pseudo_sync_runner\n",
      "    coro.send(None)\n",
      "  File \"C:\\Users\\Dimitar\\anaconda3\\lib\\site-packages\\IPython\\core\\interactiveshell.py\", line 2996, in run_cell_async\n",
      "    self.history_manager.store_inputs(self.execution_count,\n",
      "  File \"C:\\Users\\Dimitar\\anaconda3\\lib\\site-packages\\IPython\\core\\history.py\", line 719, in store_inputs\n",
      "    with self.db_input_cache_lock:\n",
      "KeyboardInterrupt\n",
      "\n",
      "During handling of the above exception, another exception occurred:\n",
      "\n",
      "Traceback (most recent call last):\n",
      "  File \"C:\\Users\\Dimitar\\anaconda3\\lib\\site-packages\\IPython\\core\\interactiveshell.py\", line 2044, in showtraceback\n",
      "    stb = value._render_traceback_()\n",
      "AttributeError: 'KeyboardInterrupt' object has no attribute '_render_traceback_'\n",
      "\n",
      "During handling of the above exception, another exception occurred:\n",
      "\n",
      "Traceback (most recent call last):\n",
      "  File \"C:\\Users\\Dimitar\\anaconda3\\lib\\site-packages\\IPython\\core\\ultratb.py\", line 1169, in get_records\n",
      "    return _fixed_getinnerframes(etb, number_of_lines_of_context, tb_offset)\n",
      "  File \"C:\\Users\\Dimitar\\anaconda3\\lib\\site-packages\\IPython\\core\\ultratb.py\", line 316, in wrapped\n",
      "    return f(*args, **kwargs)\n",
      "  File \"C:\\Users\\Dimitar\\anaconda3\\lib\\site-packages\\IPython\\core\\ultratb.py\", line 350, in _fixed_getinnerframes\n",
      "    records = fix_frame_records_filenames(inspect.getinnerframes(etb, context))\n",
      "  File \"C:\\Users\\Dimitar\\anaconda3\\lib\\inspect.py\", line 1503, in getinnerframes\n",
      "    frameinfo = (tb.tb_frame,) + getframeinfo(tb, context)\n",
      "  File \"C:\\Users\\Dimitar\\anaconda3\\lib\\inspect.py\", line 1461, in getframeinfo\n",
      "    filename = getsourcefile(frame) or getfile(frame)\n",
      "  File \"C:\\Users\\Dimitar\\anaconda3\\lib\\inspect.py\", line 705, in getsourcefile\n",
      "    if os.path.exists(filename):\n",
      "  File \"C:\\Users\\Dimitar\\anaconda3\\lib\\genericpath.py\", line 19, in exists\n",
      "    os.stat(path)\n",
      "KeyboardInterrupt\n"
     ]
    }
   ],
   "source": [
    "mnist_28x28_train = np.load(\"mnist_28x28_train.npy\")\n",
    "mnist_8x8_train = np.load(\"mnist_8x8_train.npy\")\n",
    "train_labels = np.load(\"train_labels.npy\")\n",
    "\n",
    "mnist_28x28_test = np.load(\"mnist_28x28_test.npy\")\n",
    "mnist_8x8_test = np.load(\"mnist_8x8_test.npy\")"
   ]
  },
  {
   "cell_type": "markdown",
   "metadata": {},
   "source": [
    "## Helpers"
   ]
  },
  {
   "cell_type": "code",
   "execution_count": 12,
   "metadata": {},
   "outputs": [],
   "source": [
    "def plot_results(scores, bar_1, bar_2):\n",
    "    \n",
    "    scores_1 = scores[0]\n",
    "    scores_2 = None\n",
    "    \n",
    "    if len(scores) == 2:\n",
    "        scores_2 = scores[1]\n",
    "   \n",
    "    \n",
    "    labels = ['NB', 'Tree', 'SVC', 'K-NN', 'LR']\n",
    "        \n",
    "    x = np.arange(len(labels))\n",
    "    \n",
    "    fig, ax = plt.subplots()\n",
    "    \n",
    "    width = 0.35\n",
    "    rects1 = ax.bar(x - width/2, scores_1, width, label=bar_1)\n",
    "    rects2 = ax.bar(x + width/2, scores_2, width, label=bar_2)\n",
    "\n",
    "    # Add some text for labels, title and custom x-axis tick labels, etc.\n",
    "    ax.set_ylabel('Scores')\n",
    "    ax.set_title('Scores by algorithm and dataset')\n",
    "    ax.set_xticks(x)\n",
    "    ax.set_xticklabels(labels)\n",
    "    ax.legend()\n",
    "\n",
    "    fig.tight_layout()\n",
    "\n",
    "    plt.show()\n",
    "    \n",
    "def setModelParams(target, source):\n",
    "    for name, value in source.get_params().items():\n",
    "        target.get_params()[name] = value\n",
    "        \n",
    "\n",
    "setModelParams(LogisticRegression(), LogisticRegression())"
   ]
  },
  {
   "cell_type": "markdown",
   "metadata": {},
   "source": [
    "##  Data exploration"
   ]
  },
  {
   "cell_type": "markdown",
   "metadata": {},
   "source": [
    "### Question 1\n",
    "Hint: `plt.imshow`"
   ]
  },
  {
   "cell_type": "code",
   "execution_count": 13,
   "metadata": {
    "scrolled": true
   },
   "outputs": [
    {
     "data": {
      "text/html": [
       "<div>\n",
       "<style scoped>\n",
       "    .dataframe tbody tr th:only-of-type {\n",
       "        vertical-align: middle;\n",
       "    }\n",
       "\n",
       "    .dataframe tbody tr th {\n",
       "        vertical-align: top;\n",
       "    }\n",
       "\n",
       "    .dataframe thead th {\n",
       "        text-align: right;\n",
       "    }\n",
       "</style>\n",
       "<table border=\"1\" class=\"dataframe\">\n",
       "  <thead>\n",
       "    <tr style=\"text-align: right;\">\n",
       "      <th></th>\n",
       "      <th>Dataset</th>\n",
       "      <th>Size</th>\n",
       "      <th>Features</th>\n",
       "    </tr>\n",
       "  </thead>\n",
       "  <tbody>\n",
       "    <tr>\n",
       "      <th>0</th>\n",
       "      <td>mnist_8x8</td>\n",
       "      <td>3750</td>\n",
       "      <td>64</td>\n",
       "    </tr>\n",
       "    <tr>\n",
       "      <th>1</th>\n",
       "      <td>mnist_28x28</td>\n",
       "      <td>3750</td>\n",
       "      <td>784</td>\n",
       "    </tr>\n",
       "  </tbody>\n",
       "</table>\n",
       "</div>"
      ],
      "text/plain": [
       "       Dataset  Size  Features\n",
       "0    mnist_8x8  3750        64\n",
       "1  mnist_28x28  3750       784"
      ]
     },
     "metadata": {},
     "output_type": "display_data"
    },
    {
     "data": {
      "text/html": [
       "<div>\n",
       "<style scoped>\n",
       "    .dataframe tbody tr th:only-of-type {\n",
       "        vertical-align: middle;\n",
       "    }\n",
       "\n",
       "    .dataframe tbody tr th {\n",
       "        vertical-align: top;\n",
       "    }\n",
       "\n",
       "    .dataframe thead th {\n",
       "        text-align: right;\n",
       "    }\n",
       "</style>\n",
       "<table border=\"1\" class=\"dataframe\">\n",
       "  <thead>\n",
       "    <tr style=\"text-align: right;\">\n",
       "      <th></th>\n",
       "      <th>Digit</th>\n",
       "      <th>Frequency</th>\n",
       "    </tr>\n",
       "  </thead>\n",
       "  <tbody>\n",
       "    <tr>\n",
       "      <th>0</th>\n",
       "      <td>0.0</td>\n",
       "      <td>395.0</td>\n",
       "    </tr>\n",
       "    <tr>\n",
       "      <th>1</th>\n",
       "      <td>1.0</td>\n",
       "      <td>376.0</td>\n",
       "    </tr>\n",
       "    <tr>\n",
       "      <th>2</th>\n",
       "      <td>2.0</td>\n",
       "      <td>367.0</td>\n",
       "    </tr>\n",
       "    <tr>\n",
       "      <th>3</th>\n",
       "      <td>3.0</td>\n",
       "      <td>378.0</td>\n",
       "    </tr>\n",
       "    <tr>\n",
       "      <th>4</th>\n",
       "      <td>4.0</td>\n",
       "      <td>388.0</td>\n",
       "    </tr>\n",
       "    <tr>\n",
       "      <th>5</th>\n",
       "      <td>5.0</td>\n",
       "      <td>366.0</td>\n",
       "    </tr>\n",
       "    <tr>\n",
       "      <th>6</th>\n",
       "      <td>6.0</td>\n",
       "      <td>371.0</td>\n",
       "    </tr>\n",
       "    <tr>\n",
       "      <th>7</th>\n",
       "      <td>7.0</td>\n",
       "      <td>366.0</td>\n",
       "    </tr>\n",
       "    <tr>\n",
       "      <th>8</th>\n",
       "      <td>8.0</td>\n",
       "      <td>366.0</td>\n",
       "    </tr>\n",
       "    <tr>\n",
       "      <th>9</th>\n",
       "      <td>9.0</td>\n",
       "      <td>377.0</td>\n",
       "    </tr>\n",
       "  </tbody>\n",
       "</table>\n",
       "</div>"
      ],
      "text/plain": [
       "   Digit  Frequency\n",
       "0    0.0      395.0\n",
       "1    1.0      376.0\n",
       "2    2.0      367.0\n",
       "3    3.0      378.0\n",
       "4    4.0      388.0\n",
       "5    5.0      366.0\n",
       "6    6.0      371.0\n",
       "7    7.0      366.0\n",
       "8    8.0      366.0\n",
       "9    9.0      377.0"
      ]
     },
     "metadata": {},
     "output_type": "display_data"
    },
    {
     "name": "stdout",
     "output_type": "stream",
     "text": [
      "\n",
      "Picture number 0 in the train sets is of class:  1\n"
     ]
    },
    {
     "data": {
      "text/plain": [
       "'\\nFirst images from the datasets are 1s. We can see the two images differ\\nin the amount of information they provide because of the difference in dimensionality.\\n\\nThe digits in the dataset are not uniformly distributed, because 0 is predominant, \\nwhile 5 and 7 are least frequent.\\n\\nBecause the data in the second dataset contains more correlation and more redundant information\\nthe resulting presumption is that the smaller dataset will on average perform better.\\n\\n'"
      ]
     },
     "execution_count": 13,
     "metadata": {},
     "output_type": "execute_result"
    },
    {
     "data": {
      "image/png": "[encoded data removed]",
      "text/plain": [
       "<Figure size 432x288 with 2 Axes>"
      ]
     },
     "metadata": {
      "needs_background": "light"
     },
     "output_type": "display_data"
    }
   ],
   "source": [
    "dataset_sizes = pd.DataFrame([\n",
    "    [\"mnist_8x8\", mnist_8x8_train.shape[0], mnist_8x8_train.shape[1] * mnist_8x8_train.shape[2]],\n",
    "    [\"mnist_28x28\", mnist_28x28_train.shape[0], mnist_28x28_train.shape[1] * mnist_28x28_train.shape[2]]],\n",
    "    columns = [\"Dataset\", \"Size\", \"Features\"]\n",
    ")\n",
    "\n",
    "display(dataset_sizes)\n",
    "\n",
    "digit_count = np.zeros(20)\n",
    "\n",
    "for label in train_labels:\n",
    "    digit_count[label] += 1\n",
    "    \n",
    "digit_count = digit_count\n",
    "\n",
    "info = np.zeros(20).reshape(10, 2)\n",
    "\n",
    "for i in range(10):\n",
    "    info[i] = [i, digit_count[i]]\n",
    "    \n",
    "digits_frequency = pd.DataFrame(info, columns=[\"Digit\", \"Frequency\"])\n",
    "\n",
    "display(digits_frequency)\n",
    "\n",
    "print()\n",
    "\n",
    "i = 0\n",
    "print(\"Picture number {} in the train sets is of class: \".format(i), train_labels[i])\n",
    "\n",
    "f, axarr = plt.subplots(1,2)\n",
    "axarr[0].imshow(mnist_8x8_train[i], cmap='gray', vmin=0, vmax=255)\n",
    "axarr[1].imshow(mnist_28x28_train[i], cmap='gray', vmin=0, vmax=255)\n",
    "\n",
    "\"\"\"\n",
    "First images from the datasets are 1s. We can see the two images differ\n",
    "in the amount of information they provide because of the difference in dimensionality.\n",
    "\n",
    "The digits in the dataset are not uniformly distributed, because 0 is predominant, \n",
    "while 5 and 7 are least frequent.\n",
    "\n",
    "Because the data in the second dataset contains more correlation and more redundant information\n",
    "the resulting presumption is that the smaller dataset will on average perform better.\n",
    "\n",
    "\"\"\""
   ]
  },
  {
   "cell_type": "markdown",
   "metadata": {},
   "source": [
    "##  Data Preparations"
   ]
  },
  {
   "cell_type": "markdown",
   "metadata": {},
   "source": [
    "### Question 1"
   ]
  },
  {
   "cell_type": "code",
   "execution_count": 14,
   "metadata": {},
   "outputs": [
    {
     "data": {
      "text/html": [
       "<div>\n",
       "<style scoped>\n",
       "    .dataframe tbody tr th:only-of-type {\n",
       "        vertical-align: middle;\n",
       "    }\n",
       "\n",
       "    .dataframe tbody tr th {\n",
       "        vertical-align: top;\n",
       "    }\n",
       "\n",
       "    .dataframe thead th {\n",
       "        text-align: right;\n",
       "    }\n",
       "</style>\n",
       "<table border=\"1\" class=\"dataframe\">\n",
       "  <thead>\n",
       "    <tr style=\"text-align: right;\">\n",
       "      <th></th>\n",
       "      <th>Dataset</th>\n",
       "      <th>Components</th>\n",
       "      <th>Variance %</th>\n",
       "    </tr>\n",
       "  </thead>\n",
       "  <tbody>\n",
       "    <tr>\n",
       "      <th>0</th>\n",
       "      <td>28x28</td>\n",
       "      <td>784</td>\n",
       "      <td>100.0</td>\n",
       "    </tr>\n",
       "    <tr>\n",
       "      <th>1</th>\n",
       "      <td>28x28 PCA reduced</td>\n",
       "      <td>148</td>\n",
       "      <td>95.0</td>\n",
       "    </tr>\n",
       "    <tr>\n",
       "      <th>2</th>\n",
       "      <td>8x8</td>\n",
       "      <td>64</td>\n",
       "      <td>100.0</td>\n",
       "    </tr>\n",
       "    <tr>\n",
       "      <th>3</th>\n",
       "      <td>8x8 reduced</td>\n",
       "      <td>22</td>\n",
       "      <td>95.0</td>\n",
       "    </tr>\n",
       "  </tbody>\n",
       "</table>\n",
       "</div>"
      ],
      "text/plain": [
       "             Dataset  Components  Variance %\n",
       "0              28x28         784       100.0\n",
       "1  28x28 PCA reduced         148        95.0\n",
       "2                8x8          64       100.0\n",
       "3        8x8 reduced          22        95.0"
      ]
     },
     "metadata": {},
     "output_type": "display_data"
    }
   ],
   "source": [
    "# Data Pre-processing\n",
    "\"\"\"\n",
    "Because we want every sample to be a feature vector in order to work with the\n",
    "classifiers, we will reshape the data in both datasets.\n",
    "\n",
    "No data cleaning is needed, because the dataset does not contain missing or null values.\n",
    "However, there is lots of redundant data and to get rid of it, we will perform PCA\n",
    "dimensionlaty reduction. In this way, we also significantly decrease the training time\n",
    "of algorithms like SVM and Decision Tree. \n",
    "\n",
    "The data has feature scaling and so there is little need to normalize the data for \n",
    "K-Nearest Neighbours, Logistic Regression or SVM. \n",
    "\n",
    "\"\"\"\n",
    "\n",
    "# Reshape the data\n",
    "mnist_28 = mnist_28x28_train.reshape(mnist_28x28_train.shape[0], 28 * 28)\n",
    "mnist_8 = mnist_8x8_train.reshape(mnist_8x8_train.shape[0], 8 * 8)\n",
    "\n",
    "# Dimensionality Reduction with PCA\n",
    "pca_8 = PCA(0.95)\n",
    "pca_28 = PCA(0.95)\n",
    "\n",
    "# Reduce 8x8\n",
    "mnist_8_reduced = pca_8.fit_transform(mnist_8)\n",
    "\n",
    "# Reduce 28x28\n",
    "mnist_28_reduced =  pca_28.fit_transform(mnist_28)\n",
    "\n",
    "dict = {\n",
    "    \"Dataset\": [\"28x28\", \"28x28 PCA reduced\", \"8x8\", \"8x8 reduced\"],\n",
    "    \"Components\": [28*28, mnist_28_reduced.shape[1], 8*8, mnist_8_reduced.shape[1]],\n",
    "    \"Variance %\": [100, pca_28.n_components * 100, 100, pca_8.n_components * 100]\n",
    "}\n",
    "comp = pd.DataFrame(dict)\n",
    "display(comp)\n"
   ]
  },
  {
   "cell_type": "markdown",
   "metadata": {},
   "source": [
    "### Question 1"
   ]
  },
  {
   "cell_type": "code",
   "execution_count": null,
   "metadata": {},
   "outputs": [],
   "source": []
  },
  {
   "cell_type": "code",
   "execution_count": 15,
   "metadata": {},
   "outputs": [
    {
     "data": {
      "text/plain": [
       "\"\\nWe will divide the train set into two, leaving 30% of the data as out validation set. We\\nwill also use a standard 5-fold cross-validation to get an average estimate of our classifiers'\\nperformance. In this way, we also ensure that the whole dataset will be used for testing, leading\\nto more correct classifier evaluation.\\n\\nHowever, we will not do it now because sklearn already provides a method for performing\\ncross-validation on a given dataset and labels.\\n\\n\""
      ]
     },
     "execution_count": 15,
     "metadata": {},
     "output_type": "execute_result"
    }
   ],
   "source": [
    "## Experiments\n",
    "\"\"\"\n",
    "We will divide the train set into two, leaving 30% of the data as out validation set. We\n",
    "will also use a standard 5-fold cross-validation to get an average estimate of our classifiers'\n",
    "performance. In this way, we also ensure that the whole dataset will be used for testing, leading\n",
    "to more correct classifier evaluation.\n",
    "\n",
    "However, we will not do it now because sklearn already provides a method for performing\n",
    "cross-validation on a given dataset and labels.\n",
    "\n",
    "\"\"\""
   ]
  },
  {
   "cell_type": "markdown",
   "metadata": {},
   "source": [
    "### Question 2"
   ]
  },
  {
   "cell_type": "code",
   "execution_count": 16,
   "metadata": {
    "tags": []
   },
   "outputs": [
    {
     "name": "stdout",
     "output_type": "stream",
     "text": [
      "GaussianNB : 8x8:  0.8479999999999999, 28x28:  0.8397333333333334\n",
      "DecisionTreeClassifier : 8x8:  0.748, 28x28:  0.7128\n",
      "SVC : 8x8:  0.9389333333333333, 28x28:  0.9551999999999999\n",
      "KNeighbours : 8x8:  0.9256, 28x28:  0.9293333333333333\n",
      "LogisticRegression : "
     ]
    },
    {
     "name": "stderr",
     "output_type": "stream",
     "text": [
      "C:\\Users\\Dimitar\\anaconda3\\lib\\site-packages\\sklearn\\linear_model\\_logistic.py:762: ConvergenceWarning: lbfgs failed to converge (status=1):\n",
      "STOP: TOTAL NO. of ITERATIONS REACHED LIMIT.\n",
      "\n",
      "Increase the number of iterations (max_iter) or scale the data as shown in:\n",
      "    https://scikit-learn.org/stable/modules/preprocessing.html\n",
      "Please also refer to the documentation for alternative solver options:\n",
      "    https://scikit-learn.org/stable/modules/linear_model.html#logistic-regression\n",
      "  n_iter_i = _check_optimize_result(\n",
      "C:\\Users\\Dimitar\\anaconda3\\lib\\site-packages\\sklearn\\linear_model\\_logistic.py:762: ConvergenceWarning: lbfgs failed to converge (status=1):\n",
      "STOP: TOTAL NO. of ITERATIONS REACHED LIMIT.\n",
      "\n",
      "Increase the number of iterations (max_iter) or scale the data as shown in:\n",
      "    https://scikit-learn.org/stable/modules/preprocessing.html\n",
      "Please also refer to the documentation for alternative solver options:\n",
      "    https://scikit-learn.org/stable/modules/linear_model.html#logistic-regression\n",
      "  n_iter_i = _check_optimize_result(\n",
      "C:\\Users\\Dimitar\\anaconda3\\lib\\site-packages\\sklearn\\linear_model\\_logistic.py:762: ConvergenceWarning: lbfgs failed to converge (status=1):\n",
      "STOP: TOTAL NO. of ITERATIONS REACHED LIMIT.\n",
      "\n",
      "Increase the number of iterations (max_iter) or scale the data as shown in:\n",
      "    https://scikit-learn.org/stable/modules/preprocessing.html\n",
      "Please also refer to the documentation for alternative solver options:\n",
      "    https://scikit-learn.org/stable/modules/linear_model.html#logistic-regression\n",
      "  n_iter_i = _check_optimize_result(\n",
      "C:\\Users\\Dimitar\\anaconda3\\lib\\site-packages\\sklearn\\linear_model\\_logistic.py:762: ConvergenceWarning: lbfgs failed to converge (status=1):\n",
      "STOP: TOTAL NO. of ITERATIONS REACHED LIMIT.\n",
      "\n",
      "Increase the number of iterations (max_iter) or scale the data as shown in:\n",
      "    https://scikit-learn.org/stable/modules/preprocessing.html\n",
      "Please also refer to the documentation for alternative solver options:\n",
      "    https://scikit-learn.org/stable/modules/linear_model.html#logistic-regression\n",
      "  n_iter_i = _check_optimize_result(\n",
      "C:\\Users\\Dimitar\\anaconda3\\lib\\site-packages\\sklearn\\linear_model\\_logistic.py:762: ConvergenceWarning: lbfgs failed to converge (status=1):\n",
      "STOP: TOTAL NO. of ITERATIONS REACHED LIMIT.\n",
      "\n",
      "Increase the number of iterations (max_iter) or scale the data as shown in:\n",
      "    https://scikit-learn.org/stable/modules/preprocessing.html\n",
      "Please also refer to the documentation for alternative solver options:\n",
      "    https://scikit-learn.org/stable/modules/linear_model.html#logistic-regression\n",
      "  n_iter_i = _check_optimize_result(\n",
      "C:\\Users\\Dimitar\\anaconda3\\lib\\site-packages\\sklearn\\linear_model\\_logistic.py:762: ConvergenceWarning: lbfgs failed to converge (status=1):\n",
      "STOP: TOTAL NO. of ITERATIONS REACHED LIMIT.\n",
      "\n",
      "Increase the number of iterations (max_iter) or scale the data as shown in:\n",
      "    https://scikit-learn.org/stable/modules/preprocessing.html\n",
      "Please also refer to the documentation for alternative solver options:\n",
      "    https://scikit-learn.org/stable/modules/linear_model.html#logistic-regression\n",
      "  n_iter_i = _check_optimize_result(\n",
      "C:\\Users\\Dimitar\\anaconda3\\lib\\site-packages\\sklearn\\linear_model\\_logistic.py:762: ConvergenceWarning: lbfgs failed to converge (status=1):\n",
      "STOP: TOTAL NO. of ITERATIONS REACHED LIMIT.\n",
      "\n",
      "Increase the number of iterations (max_iter) or scale the data as shown in:\n",
      "    https://scikit-learn.org/stable/modules/preprocessing.html\n",
      "Please also refer to the documentation for alternative solver options:\n",
      "    https://scikit-learn.org/stable/modules/linear_model.html#logistic-regression\n",
      "  n_iter_i = _check_optimize_result(\n",
      "C:\\Users\\Dimitar\\anaconda3\\lib\\site-packages\\sklearn\\linear_model\\_logistic.py:762: ConvergenceWarning: lbfgs failed to converge (status=1):\n",
      "STOP: TOTAL NO. of ITERATIONS REACHED LIMIT.\n",
      "\n",
      "Increase the number of iterations (max_iter) or scale the data as shown in:\n",
      "    https://scikit-learn.org/stable/modules/preprocessing.html\n",
      "Please also refer to the documentation for alternative solver options:\n",
      "    https://scikit-learn.org/stable/modules/linear_model.html#logistic-regression\n",
      "  n_iter_i = _check_optimize_result(\n",
      "C:\\Users\\Dimitar\\anaconda3\\lib\\site-packages\\sklearn\\linear_model\\_logistic.py:762: ConvergenceWarning: lbfgs failed to converge (status=1):\n",
      "STOP: TOTAL NO. of ITERATIONS REACHED LIMIT.\n",
      "\n",
      "Increase the number of iterations (max_iter) or scale the data as shown in:\n",
      "    https://scikit-learn.org/stable/modules/preprocessing.html\n",
      "Please also refer to the documentation for alternative solver options:\n",
      "    https://scikit-learn.org/stable/modules/linear_model.html#logistic-regression\n",
      "  n_iter_i = _check_optimize_result(\n",
      "C:\\Users\\Dimitar\\anaconda3\\lib\\site-packages\\sklearn\\linear_model\\_logistic.py:762: ConvergenceWarning: lbfgs failed to converge (status=1):\n",
      "STOP: TOTAL NO. of ITERATIONS REACHED LIMIT.\n",
      "\n",
      "Increase the number of iterations (max_iter) or scale the data as shown in:\n",
      "    https://scikit-learn.org/stable/modules/preprocessing.html\n",
      "Please also refer to the documentation for alternative solver options:\n",
      "    https://scikit-learn.org/stable/modules/linear_model.html#logistic-regression\n",
      "  n_iter_i = _check_optimize_result(\n",
      "C:\\Users\\Dimitar\\anaconda3\\lib\\site-packages\\sklearn\\linear_model\\_logistic.py:762: ConvergenceWarning: lbfgs failed to converge (status=1):\n",
      "STOP: TOTAL NO. of ITERATIONS REACHED LIMIT.\n",
      "\n",
      "Increase the number of iterations (max_iter) or scale the data as shown in:\n",
      "    https://scikit-learn.org/stable/modules/preprocessing.html\n",
      "Please also refer to the documentation for alternative solver options:\n",
      "    https://scikit-learn.org/stable/modules/linear_model.html#logistic-regression\n",
      "  n_iter_i = _check_optimize_result(\n"
     ]
    },
    {
     "name": "stdout",
     "output_type": "stream",
     "text": [
      "8x8:  0.8797333333333335, 28x28:  0.8170666666666666\n"
     ]
    },
    {
     "data": {
      "image/png": "[encoded data removed]",
      "text/plain": [
       "<Figure size 432x288 with 1 Axes>"
      ]
     },
     "metadata": {
      "needs_background": "light"
     },
     "output_type": "display_data"
    },
    {
     "data": {
      "text/plain": [
       "'\\nThe bar plot below shows the average accuracy of the five algorithms cross-validated\\nusing 90% train data and 10% validation data.\\nAs we can see, the performance is from worse to best:\\nDecision Tree < Naive Bayes < Logistic Regression < K-Nearest Neighbours < SVC\\n\\nThe plot also shows that on average:\\n    SVC and K-NN perform better with the larger dataset\\n    GaussianNB, Decision Tree and Logistic Regression perform better with the compressed dataset. \\n\\nExplanation of results is as follows:\\n1) Decision tree does not perform well because classes are not uniformly distributed.\\n2) The Naive Bayes also does not perform well as its assumtion of feature independence is incorrect.\\n3) Even after PCA, there is noise in the data, leading to lack of good convergence\\n    for gradient ascent of Logistic Regression.\\n\\n4) K-NN and SVC usually perform well with large datasets and weighted K-NN considers the distances to \\n    neighbours as well, making it less affected by the non-uniform digit distribution.\\n\\n'"
      ]
     },
     "execution_count": 16,
     "metadata": {},
     "output_type": "execute_result"
    }
   ],
   "source": [
    "# Now we will fit the models using\n",
    "\n",
    "scores_8x8 = np.zeros(5) \n",
    "scores_28x28 = np.zeros(5)\n",
    "\n",
    "index = 0\n",
    "\n",
    "for name, model in models.items():\n",
    "    print(\"{n} : \".format(n=name), end='')\n",
    "   \n",
    "    scores_8x8[index] = np.mean(cross_validate(model, mnist_8_reduced, train_labels, cv=10)['test_score'])\n",
    "    scores_28x28[index] = np.mean(cross_validate(model, mnist_28_reduced, train_labels, cv=10)['test_score'])\n",
    "    \n",
    "    print(\"8x8: \", scores_8x8[index], end=', ')\n",
    "    print(\"28x28: \", scores_28x28[index])\n",
    "    \n",
    "    index += 1\n",
    "\n",
    "normal_scores_8x8 = scores_8x8    \n",
    "plot_results([scores_8x8, scores_28x28], \"Dataset 8x8\", \"Dataset 28x28\")\n",
    "\n",
    "'''\n",
    "The bar plot below shows the average accuracy of the five algorithms cross-validated\n",
    "using 90% train data and 10% validation data.\n",
    "As we can see, the performance is from worse to best:\n",
    "Decision Tree < Naive Bayes < Logistic Regression < K-Nearest Neighbours < SVC\n",
    "\n",
    "The plot also shows that on average:\n",
    "    SVC and K-NN perform better with the larger dataset\n",
    "    GaussianNB, Decision Tree and Logistic Regression perform better with the compressed dataset. \n",
    "\n",
    "Explanation of results is as follows:\n",
    "1) Decision tree does not perform well because classes are not uniformly distributed.\n",
    "2) The Naive Bayes also does not perform well as its assumtion of feature independence is incorrect.\n",
    "3) Even after PCA, there is noise in the data, leading to lack of good convergence\n",
    "    for gradient ascent of Logistic Regression.\n",
    "\n",
    "4) K-NN and SVC usually perform well with large datasets and in this case weighted K-NN considers the distances to \n",
    "    neighbours as well, making it less affected by the non-uniform digit distribution.\n",
    "\n",
    "'''"
   ]
  },
  {
   "cell_type": "code",
   "execution_count": 17,
   "metadata": {
    "scrolled": false
   },
   "outputs": [],
   "source": [
    "\n",
    "\n",
    "# Logistic Regression\n",
    "param_grid_lr = { \n",
    "    'C': [0.01, 0.1, 1, 5, 10, 30],\n",
    "    'penalty': ['none', 'l1', 'l2', 'elasticnet']\n",
    "    }\n",
    "\n",
    "\n",
    "# SVC\n",
    "param_grid_svc = { \n",
    "    'C': [96, ],\n",
    "    'kernel': ['rbf', 'poly', 'sigmoid']\n",
    "}\n",
    "    \n",
    "# Decision Tree\n",
    "param_grid_dt = {\n",
    "    'max_depth': [ 10, 12, 14, 15, None],\n",
    "    'min_samples_leaf': np.linspace(0.000001, 0.00001 , 30, endpoint=True)\n",
    "}\n",
    "\n",
    "# K-Nearest Neighbours\n",
    "param_grid_knn = {\n",
    "    'n_neighbors': [3, 4, 5, 6, 7, 10, 50, 70, 100],\n",
    "    'weights': ['uniform', 'distance']\n",
    "}\n",
    "\n",
    "tuned_models['LogisticRegression'] = GridSearchCV(LogisticRegression(), param_grid_lr, refit=True, verbose=0)\n",
    "tuned_models['SVC'] = GridSearchCV(SVC(), param_grid_svc, refit=True, verbose=0)\n",
    "tuned_models['DecisionTreeClassifier'] = GridSearchCV(DecisionTreeClassifier(), param_grid_dt, refit=True, verbose=0)\n",
    "tuned_models['KNeighbours'] = GridSearchCV(KNeighborsClassifier(), param_grid_knn, refit=True, verbose=0)"
   ]
  },
  {
   "cell_type": "code",
   "execution_count": null,
   "metadata": {},
   "outputs": [
    {
     "name": "stdout",
     "output_type": "stream",
     "text": [
      "DecisionTreeClassifier :\n",
      "DecisionTreeClassifier(max_depth=15, min_samples_leaf=1.6206896551724138e-06)\n",
      "Split 0:  0.752\n",
      "DecisionTreeClassifier(max_depth=15, min_samples_leaf=6.5862068965517236e-06)\n",
      "Split 1:  0.7296\n",
      "DecisionTreeClassifier(max_depth=14, min_samples_leaf=8.758620689655173e-06)\n",
      "Split 2:  0.7728\n"
     ]
    }
   ],
   "source": [
    "\n",
    "# Hyper-Parameter Tuning\n",
    "\n",
    "index = -1\n",
    "\n",
    "# Create a data splitter for the outer CV\n",
    "\n",
    "for name, model in tuned_models.items():\n",
    "    \n",
    "    # Update index of the score to update\n",
    "    index += 1\n",
    "    \n",
    "    # Skip Naive Bayes\n",
    "    if name == \"GaussianNB\":\n",
    "        tuned_scores_8x8[index] = normal_scores_8x8[0]\n",
    "        continue\n",
    "    \n",
    "    best_model = None\n",
    "    best_score = 0\n",
    "    best_params = None\n",
    "\n",
    "    print(name, \":\")\n",
    "    cv_outer = StratifiedKFold(n_splits=6)\n",
    "    splits = cv_outer.split(mnist_8_reduced, train_labels)\n",
    "\n",
    "\n",
    "    for i, split in enumerate(splits):\n",
    "\n",
    "        # Get the splitted training and testing set\n",
    "        train_i, test_i = split[0], split[1]\n",
    "        trainX, testX, trainY, testY = (mnist_8_reduced[train_i], mnist_8_reduced[test_i], train_labels[train_i], train_labels[test_i])\n",
    "            \n",
    "        # Fit the model -> Get best hyper params in the inner CV\n",
    "        model.fit(trainX, trainY)\n",
    "        est = model.best_estimator_\n",
    "        print(est)\n",
    "                    \n",
    "        # Test it using the testing set in the outer CV\n",
    "        predictions = est.predict(testX)\n",
    "            \n",
    "        # Check whether it has the best performnce by now\n",
    "        score = accuracy_score(testY, predictions)\n",
    "        if score > best_score:\n",
    "                    \n",
    "            best_score = score\n",
    "            best_model = est\n",
    "            best_params = model.best_params_\n",
    "            \n",
    "            # Update the best params for the model\n",
    "            \n",
    "            \n",
    "        print(\"Split {i}: \".format(i=i), score)\n",
    "        \n",
    "    tuned_models[name] = best_model\n",
    "    print(tuned_models[name])\n",
    "    tuned_scores_8x8[index] = best_score\n",
    "    \n",
    "    print()\n",
    "\n",
    "\n",
    "\"\"\"\n",
    "To perform hyper-parameter tuning, we use double cross validation. To do this, we use\n",
    "a StratifiedKFold object to make 5 splits of our training mnist dataset into training and validation set.\n",
    "We use a GridSearchCV object to perform the inner cross validation. For every model and every \n",
    "split of the data, we fit the split's train data into the GridSearchCV object, which automatically performs the inner\n",
    "cross validation for every combination of the provided values for the model's hyper-parameters.\n",
    "The best performing combinations for every split are then compared in the outer CV with the split's validation set.\n",
    "\n",
    "The best perforing combination in the outer CV is used to tune the model.\n",
    "\n",
    "We perform this for both the large and the compressed mnist training datasets.\n",
    "\n",
    "\"\"\"\n",
    "\n",
    "for model in tuned_models:\n",
    "    print(model)"
   ]
  },
  {
   "cell_type": "markdown",
   "metadata": {},
   "source": [
    "### Question 4 "
   ]
  },
  {
   "cell_type": "code",
   "execution_count": 14,
   "metadata": {},
   "outputs": [
    {
     "name": "stdout",
     "output_type": "stream",
     "text": [
      "{'GaussianNB': GaussianNB(), 'DecisionTreeClassifier': DecisionTreeClassifier(max_depth=14, min_samples_leaf=9.068965517241379e-06), 'SVC': SVC(C=96), 'KNeighbours': KNeighborsClassifier(n_neighbors=4, weights='distance'), 'LogisticRegression': LogisticRegression(C=0.01)}\n",
      "GaussianNB\n",
      "DecisionTreeClassifier\n",
      "SVC\n",
      "KNeighbours\n",
      "LogisticRegression\n"
     ]
    },
    {
     "name": "stderr",
     "output_type": "stream",
     "text": [
      "C:\\Users\\Dimitar\\anaconda3\\lib\\site-packages\\sklearn\\linear_model\\_logistic.py:762: ConvergenceWarning: lbfgs failed to converge (status=1):\n",
      "STOP: TOTAL NO. of ITERATIONS REACHED LIMIT.\n",
      "\n",
      "Increase the number of iterations (max_iter) or scale the data as shown in:\n",
      "    https://scikit-learn.org/stable/modules/preprocessing.html\n",
      "Please also refer to the documentation for alternative solver options:\n",
      "    https://scikit-learn.org/stable/modules/linear_model.html#logistic-regression\n",
      "  n_iter_i = _check_optimize_result(\n",
      "C:\\Users\\Dimitar\\anaconda3\\lib\\site-packages\\sklearn\\linear_model\\_logistic.py:762: ConvergenceWarning: lbfgs failed to converge (status=1):\n",
      "STOP: TOTAL NO. of ITERATIONS REACHED LIMIT.\n",
      "\n",
      "Increase the number of iterations (max_iter) or scale the data as shown in:\n",
      "    https://scikit-learn.org/stable/modules/preprocessing.html\n",
      "Please also refer to the documentation for alternative solver options:\n",
      "    https://scikit-learn.org/stable/modules/linear_model.html#logistic-regression\n",
      "  n_iter_i = _check_optimize_result(\n",
      "C:\\Users\\Dimitar\\anaconda3\\lib\\site-packages\\sklearn\\linear_model\\_logistic.py:762: ConvergenceWarning: lbfgs failed to converge (status=1):\n",
      "STOP: TOTAL NO. of ITERATIONS REACHED LIMIT.\n",
      "\n",
      "Increase the number of iterations (max_iter) or scale the data as shown in:\n",
      "    https://scikit-learn.org/stable/modules/preprocessing.html\n",
      "Please also refer to the documentation for alternative solver options:\n",
      "    https://scikit-learn.org/stable/modules/linear_model.html#logistic-regression\n",
      "  n_iter_i = _check_optimize_result(\n",
      "C:\\Users\\Dimitar\\anaconda3\\lib\\site-packages\\sklearn\\linear_model\\_logistic.py:762: ConvergenceWarning: lbfgs failed to converge (status=1):\n",
      "STOP: TOTAL NO. of ITERATIONS REACHED LIMIT.\n",
      "\n",
      "Increase the number of iterations (max_iter) or scale the data as shown in:\n",
      "    https://scikit-learn.org/stable/modules/preprocessing.html\n",
      "Please also refer to the documentation for alternative solver options:\n",
      "    https://scikit-learn.org/stable/modules/linear_model.html#logistic-regression\n",
      "  n_iter_i = _check_optimize_result(\n",
      "C:\\Users\\Dimitar\\anaconda3\\lib\\site-packages\\sklearn\\linear_model\\_logistic.py:762: ConvergenceWarning: lbfgs failed to converge (status=1):\n",
      "STOP: TOTAL NO. of ITERATIONS REACHED LIMIT.\n",
      "\n",
      "Increase the number of iterations (max_iter) or scale the data as shown in:\n",
      "    https://scikit-learn.org/stable/modules/preprocessing.html\n",
      "Please also refer to the documentation for alternative solver options:\n",
      "    https://scikit-learn.org/stable/modules/linear_model.html#logistic-regression\n",
      "  n_iter_i = _check_optimize_result(\n",
      "C:\\Users\\Dimitar\\anaconda3\\lib\\site-packages\\sklearn\\linear_model\\_logistic.py:762: ConvergenceWarning: lbfgs failed to converge (status=1):\n",
      "STOP: TOTAL NO. of ITERATIONS REACHED LIMIT.\n",
      "\n",
      "Increase the number of iterations (max_iter) or scale the data as shown in:\n",
      "    https://scikit-learn.org/stable/modules/preprocessing.html\n",
      "Please also refer to the documentation for alternative solver options:\n",
      "    https://scikit-learn.org/stable/modules/linear_model.html#logistic-regression\n",
      "  n_iter_i = _check_optimize_result(\n",
      "C:\\Users\\Dimitar\\anaconda3\\lib\\site-packages\\sklearn\\linear_model\\_logistic.py:762: ConvergenceWarning: lbfgs failed to converge (status=1):\n",
      "STOP: TOTAL NO. of ITERATIONS REACHED LIMIT.\n",
      "\n",
      "Increase the number of iterations (max_iter) or scale the data as shown in:\n",
      "    https://scikit-learn.org/stable/modules/preprocessing.html\n",
      "Please also refer to the documentation for alternative solver options:\n",
      "    https://scikit-learn.org/stable/modules/linear_model.html#logistic-regression\n",
      "  n_iter_i = _check_optimize_result(\n",
      "C:\\Users\\Dimitar\\anaconda3\\lib\\site-packages\\sklearn\\linear_model\\_logistic.py:762: ConvergenceWarning: lbfgs failed to converge (status=1):\n",
      "STOP: TOTAL NO. of ITERATIONS REACHED LIMIT.\n",
      "\n",
      "Increase the number of iterations (max_iter) or scale the data as shown in:\n",
      "    https://scikit-learn.org/stable/modules/preprocessing.html\n",
      "Please also refer to the documentation for alternative solver options:\n",
      "    https://scikit-learn.org/stable/modules/linear_model.html#logistic-regression\n",
      "  n_iter_i = _check_optimize_result(\n",
      "C:\\Users\\Dimitar\\anaconda3\\lib\\site-packages\\sklearn\\linear_model\\_logistic.py:762: ConvergenceWarning: lbfgs failed to converge (status=1):\n",
      "STOP: TOTAL NO. of ITERATIONS REACHED LIMIT.\n",
      "\n",
      "Increase the number of iterations (max_iter) or scale the data as shown in:\n",
      "    https://scikit-learn.org/stable/modules/preprocessing.html\n",
      "Please also refer to the documentation for alternative solver options:\n",
      "    https://scikit-learn.org/stable/modules/linear_model.html#logistic-regression\n",
      "  n_iter_i = _check_optimize_result(\n",
      "C:\\Users\\Dimitar\\anaconda3\\lib\\site-packages\\sklearn\\linear_model\\_logistic.py:762: ConvergenceWarning: lbfgs failed to converge (status=1):\n",
      "STOP: TOTAL NO. of ITERATIONS REACHED LIMIT.\n",
      "\n",
      "Increase the number of iterations (max_iter) or scale the data as shown in:\n",
      "    https://scikit-learn.org/stable/modules/preprocessing.html\n",
      "Please also refer to the documentation for alternative solver options:\n",
      "    https://scikit-learn.org/stable/modules/linear_model.html#logistic-regression\n",
      "  n_iter_i = _check_optimize_result(\n"
     ]
    },
    {
     "data": {
      "image/png": "[encoded data removed]",
      "text/plain": [
       "<Figure size 432x288 with 1 Axes>"
      ]
     },
     "metadata": {
      "needs_background": "light"
     },
     "output_type": "display_data"
    },
    {
     "data": {
      "text/plain": [
       "'\\nAfter we tuned our models, we will compare their performance with that of the baseline versions by again performing\\na 10-fold cross validation. On the plot below we can see the results of testing our algorithms on the smaller PCA-reduced \\ndataset with and without hyper-parameter tuning. \\n\\nClearly only the K-NN and SVC classifiers managed to be improved in the process. For SVC, this \\nwas done by just decreasing the regularization parameter, thus reducing the amount of overfitting.\\nFor Nearest Neighbours, we again use the weighted k-nn version of the algorithm, but now with a smaller\\nnumber of neighbours to use for prediction. \\n\\nFor the other 2 tuned algorithms - Logistic Regression and Decision Tree, it could be that the method or comparison\\nmetric for tuning was not efficient enough, leading to a badly chosen combination of parameters.\\n\\n'"
      ]
     },
     "execution_count": 14,
     "metadata": {},
     "output_type": "execute_result"
    }
   ],
   "source": [
    "# Plot the performance of the 8x8 dataset models / tuned_models\n",
    "\n",
    "perf_normal = normal_scores_8x8\n",
    "perf_tuned = np.zeros(5)\n",
    "\n",
    "index = 0\n",
    "\n",
    "print(tuned_models)\n",
    "\n",
    "for name, tuned_model in tuned_models.items():\n",
    "    print(name)\n",
    "    if name == \"GaussianNB\":\n",
    "        perf_tuned[index] = normal_scores_8x8[index]\n",
    "        index += 1\n",
    "        continue\n",
    "    perf_tuned[index] = np.mean(cross_validate(tuned_model, mnist_8_reduced, train_labels, cv=10)['test_score'])\n",
    "    index += 1                  \n",
    "                                \n",
    "plot_results([scores_8x8, perf_tuned], \"Baseline\", \"Tuned\")\n",
    "                                \n",
    "# Effect of tuning - results and differences\n",
    "\"\"\"\n",
    "After we tuned our models, we will compare their performance with that of the baseline versions by again performing\n",
    "a 10-fold cross validation. On the plot below we can see the results of testing our algorithms on the smaller PCA-reduced \n",
    "dataset with and without hyper-parameter tuning. \n",
    "\n",
    "Clearly only the K-NN and SVC classifiers managed to be improved in the process. For SVC, this \n",
    "was done by just decreasing the regularization parameter, thus reducing the amount of overfitting.\n",
    "For Nearest Neighbours, we again use the weighted k-nn version of the algorithm, but now with a smaller\n",
    "number of neighbours to use for prediction. \n",
    "\n",
    "For the other 2 tuned algorithms - Logistic Regression and Decision Tree, it could be that the method or comparison\n",
    "metric for tuning was not efficient enough, leading to a badly chosen combination of parameters.\n",
    "\n",
    "\"\"\"\n"
   ]
  },
  {
   "cell_type": "markdown",
   "metadata": {},
   "source": [
    "### Question 5"
   ]
  },
  {
   "cell_type": "code",
   "execution_count": null,
   "metadata": {},
   "outputs": [],
   "source": []
  },
  {
   "cell_type": "raw",
   "metadata": {},
   "source": []
  },
  {
   "cell_type": "code",
   "execution_count": 1,
   "metadata": {},
   "outputs": [
    {
     "ename": "NameError",
     "evalue": "name 'plot_results' is not defined",
     "output_type": "error",
     "traceback": [
      "\u001b[1;31m---------------------------------------------------------------------------\u001b[0m",
      "\u001b[1;31mNameError\u001b[0m                                 Traceback (most recent call last)",
      "\u001b[1;32m<ipython-input-1-c0afca90ff2d>\u001b[0m in \u001b[0;36m<module>\u001b[1;34m\u001b[0m\n\u001b[0;32m      1\u001b[0m \u001b[1;31m# Comparison of performance with the different number of features\u001b[0m\u001b[1;33m\u001b[0m\u001b[1;33m\u001b[0m\u001b[1;33m\u001b[0m\u001b[0m\n\u001b[0;32m      2\u001b[0m \u001b[1;33m\u001b[0m\u001b[0m\n\u001b[1;32m----> 3\u001b[1;33m \u001b[0mplot_results\u001b[0m\u001b[1;33m(\u001b[0m\u001b[1;33m[\u001b[0m\u001b[0mscores_8x8\u001b[0m\u001b[1;33m,\u001b[0m \u001b[0mscores_28x28\u001b[0m\u001b[1;33m]\u001b[0m\u001b[1;33m,\u001b[0m \u001b[1;34m\"Dataset 8x8\"\u001b[0m\u001b[1;33m,\u001b[0m \u001b[1;34m\"Dataset 28x28\"\u001b[0m\u001b[1;33m)\u001b[0m\u001b[1;33m\u001b[0m\u001b[1;33m\u001b[0m\u001b[0m\n\u001b[0m\u001b[0;32m      4\u001b[0m \u001b[1;33m\u001b[0m\u001b[0m\n\u001b[0;32m      5\u001b[0m \"\"\"\n",
      "\u001b[1;31mNameError\u001b[0m: name 'plot_results' is not defined"
     ]
    }
   ],
   "source": [
    "# Comparison of performance with the different number of features\n",
    "\n",
    "plot_results([scores_8x8, scores_28x28], \"Dataset 8x8\", \"Dataset 28x28\")\n",
    "\n",
    "\"\"\"\n",
    "\n",
    "The results by now showed 3 of the 5 algorithms perform worse with the larger dataset,\n",
    "which corresponds with the initial assumption.\n",
    "\n",
    "Presumably, Decision Tree and Logistic Regression are affected by the general curse of dimensionality problem,\n",
    "while the Naive Bayes is affected by the increase of feature correlation and noise in the data.\n",
    "\n",
    "SVC and K-NN are not affected by the curse of dimensionality in this case, probably because of \n",
    "the large training set size and the right parameters.\n",
    "\n",
    "\"\"\"\n"
   ]
  },
  {
   "cell_type": "markdown",
   "metadata": {},
   "source": [
    "### Question 6"
   ]
  },
  {
   "cell_type": "code",
   "execution_count": 40,
   "metadata": {},
   "outputs": [
    {
     "name": "stdout",
     "output_type": "stream",
     "text": [
      "[7 0 0 5 7 9 0 6 6 5]\n"
     ]
    },
    {
     "data": {
      "image/png": "[encoded data removed]",
      "text/plain": [
       "<Figure size 432x288 with 10 Axes>"
      ]
     },
     "metadata": {
      "needs_background": "light"
     },
     "output_type": "display_data"
    }
   ],
   "source": [
    "# Pre-process data of the test 28x28 set\n",
    "mnist_8x8_test_reshaped = mnist_8x8_test.reshape(mnist_8x8_test.shape[0], 64)\n",
    "\n",
    "test_dataset = pca_8.transform(mnist_8x8_test_reshaped)\n",
    "\n",
    "best_algorithm = SVC(C=10)\n",
    "\n",
    "\n",
    "best_algorithm.fit(mnist_8_reduced, train_labels)\n",
    "\n",
    "prediction = best_algorithm.predict(test_dataset)\n",
    "\n",
    "print(prediction[1240:1250])\n",
    "\n",
    "f, axarr = plt.subplots(1,10)\n",
    "for i in range(10):\n",
    "    axarr[i].imshow(mnist_28x28_test[1240+i], cmap='gray', vmin=0, vmax=255)\n",
    "\n",
    "    \n",
    "    \n",
    "# pd.DataFrame(prediction).to_csv(\"GROUP_classes_problem_mnist.txt\", index=False, header=False)"
   ]
  },
  {
   "cell_type": "code",
   "execution_count": null,
   "metadata": {},
   "outputs": [],
   "source": []
  }
 ],
 "metadata": {
  "kernelspec": {
   "display_name": "Python 3",
   "language": "python",
   "name": "python3"
  },
  "language_info": {
   "codemirror_mode": {
    "name": "ipython",
    "version": 3
   },
   "file_extension": ".py",
   "mimetype": "text/x-python",
   "name": "python",
   "nbconvert_exporter": "python",
   "pygments_lexer": "ipython3",
   "version": "3.8.3"
  }
 },
 "nbformat": 4,
 "nbformat_minor": 4
}
